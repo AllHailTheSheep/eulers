{
  "nbformat": 4,
  "nbformat_minor": 0,
  "metadata": {
    "colab": {
      "name": "5.ipynb",
      "provenance": []
    },
    "kernelspec": {
      "name": "python3",
      "display_name": "Python 3"
    }
  },
  "cells": [
    {
      "cell_type": "code",
      "metadata": {
        "id": "HlAItAL9MV_k",
        "colab_type": "code",
        "colab": {
          "base_uri": "https://localhost:8080/",
          "height": 34
        },
        "outputId": "1a24a510-0244-49cc-c5b8-df630c526218"
      },
      "source": [
        "from functools import reduce\n",
        "# def lcm function for finding lcm\n",
        "def lcm(a, b):\n",
        "    a = int(a)\n",
        "    b = int(b)\n",
        "    if a > b:\n",
        "        greater = a\n",
        "    else:\n",
        "        greater = b\n",
        "\n",
        "    # good old brute forcing\n",
        "    while True:\n",
        "        if greater % a == 0 and greater % b == 0:\n",
        "            current_lcm = greater\n",
        "            break\n",
        "        greater += 1\n",
        "    # this is the lcm now, as it divides evenly with respect to both a and b\n",
        "    return current_lcm\n",
        "\n",
        "\n",
        "# apply aforementioned brute forcing to list of numbers to find their lcm\n",
        "def get_lcm_for(your_list):\n",
        "    return reduce(lambda x, y: lcm(x, y), your_list)\n",
        "\n",
        "# get the list\n",
        "lst = []\n",
        "for i in range(1, int(20)+1):\n",
        "  lst.append(i)\n",
        "# it's brute forcing time\n",
        "print(\"The LCM of \" + str(lst) + \" is \" + str(get_lcm_for(lst)))\n"
      ],
      "execution_count": 89,
      "outputs": [
        {
          "output_type": "stream",
          "text": [
            "The LCM of [1, 2, 3, 4, 5, 6, 7, 8, 9, 10, 11, 12, 13, 14, 15, 16, 17, 18, 19, 20] is 232792560\n"
          ],
          "name": "stdout"
        }
      ]
    }
  ]
}