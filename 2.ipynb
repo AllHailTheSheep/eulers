{
  "nbformat": 4,
  "nbformat_minor": 0,
  "metadata": {
    "colab": {
      "name": "2.ipynb",
      "provenance": []
    },
    "kernelspec": {
      "name": "python3",
      "display_name": "Python 3"
    }
  },
  "cells": [
    {
      "cell_type": "code",
      "metadata": {
        "id": "R3j5yqK6vJ4j",
        "colab_type": "code",
        "colab": {
          "base_uri": "https://localhost:8080/",
          "height": 34
        },
        "outputId": "d676850e-bdae-4b22-f677-963956677521"
      },
      "source": [
        "# find the sum of all even valued terms of the fibonacci sequence that do not exceed four million\n",
        "\n",
        "# sequence generator\n",
        "a = 0\n",
        "b = 1\n",
        "fibs = []\n",
        "while b < 4000000:\n",
        "  a = a + b\n",
        "  b = b + a\n",
        "  fibs.append(a)\n",
        "  fibs.append(b)\n",
        "# just get the even ones\n",
        "to_sum = []\n",
        "for i in fibs:\n",
        "  if i % 2 == 0:\n",
        "    to_sum.append(i)\n",
        "# print the answer\n",
        "print(sum(to_sum))"
      ],
      "execution_count": 14,
      "outputs": [
        {
          "output_type": "stream",
          "text": [
            "4613732\n"
          ],
          "name": "stdout"
        }
      ]
    }
  ]
}