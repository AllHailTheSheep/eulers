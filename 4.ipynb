{
  "nbformat": 4,
  "nbformat_minor": 0,
  "metadata": {
    "colab": {
      "name": "4.ipynb",
      "provenance": []
    },
    "kernelspec": {
      "name": "python3",
      "display_name": "Python 3"
    }
  },
  "cells": [
    {
      "cell_type": "code",
      "metadata": {
        "id": "nM4WyyDmZVH7",
        "colab_type": "code",
        "colab": {}
      },
      "source": [
        "# find the largest palindromic number that is the product of two three digit numbers\n",
        "# this can be done in like 5 lines, but this is more readable imo\n",
        "\n",
        "# define the condition of palindrome\n",
        "def is_palindrome(string):\n",
        "  if string[len(string)::-1] == string:\n",
        "    return True\n",
        "  else:\n",
        "    return False\n",
        "\n",
        "# list of natural numbers from 100-999\n",
        "nums = []\n",
        "for i in range(100, 1000):\n",
        "  nums.append(int(i))\n",
        "\n",
        "# list of x * y palindromes; brute force style\n",
        "palindromes = []\n",
        "for x in nums:\n",
        "  for y in nums:\n",
        "    n = int(x * y)\n",
        "    if is_palindrome(str(n)) is True:\n",
        "      palindromes.append(str(n))\n",
        "\n",
        "# so i was trying to do print(max(palindromes)) but for some reason that wasn't\n",
        "# doing it so i made i own max function\n",
        "highest = palindromes[0]\n",
        "for num in palindromes:\n",
        "  if int(num) > int(highest):\n",
        "    highest = num\n",
        "\n",
        "# print our answer\n",
        "print(highest)"
      ],
      "execution_count": 0,
      "outputs": []
    }
  ]
}