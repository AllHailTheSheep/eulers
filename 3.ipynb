{
  "nbformat": 4,
  "nbformat_minor": 0,
  "metadata": {
    "colab": {
      "name": "3.ipynb",
      "provenance": []
    },
    "kernelspec": {
      "name": "python3",
      "display_name": "Python 3"
    }
  },
  "cells": [
    {
      "cell_type": "code",
      "metadata": {
        "id": "TGN6sYjuVjdE",
        "colab_type": "code",
        "colab": {}
      },
      "source": [
        "# find the largest prime factor of 600851475143\n",
        "num = 600851475143\n",
        "i = 2\n",
        "# since the number is odd, this script will work. its buggy with sqaures tho\n",
        "while i * i < num:\n",
        "    while num % i == 0:\n",
        "        num = num / i\n",
        "    i = i + 1\n",
        "print(num)"
      ],
      "execution_count": 0,
      "outputs": []
    }
  ]
}